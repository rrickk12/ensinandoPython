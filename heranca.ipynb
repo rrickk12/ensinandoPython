{
 "cells": [
  {
   "cell_type": "code",
   "execution_count": 42,
   "metadata": {},
   "outputs": [],
   "source": [
    "class Funcionario():\n",
    "    aumentoAnual = 1.04\n",
    "    def __init__ (self,nome,salario):\n",
    "        self.nome =  nome\n",
    "        self.salario = salario\n",
    "    #ler os proprios dados do funcionario\n",
    "    def dados(self):\n",
    "        return {'nome' : self.nome, \"salario\" : self.salario}\n",
    "    \n",
    "    def aplicarAumento(self):\n",
    "        self.salario *= self.aumentoAnual \n",
    "    #toda classe comum recebe self automaticamente\n",
    "    \n",
    "    #o metodo de classe recebe 'cls'\n",
    "    @classmethod \n",
    "    def aplicarNovoAumento(cls,novoAumento):#pegamos a propria classe ao invez do objeto\n",
    "        cls.aumentoAnual = novoAumento #modificamos o atributo de aumentoAnual da classe e portanto de todos os objetos\n",
    "    \n",
    "    #metodo estatico, eh utilizado quando nao eh necessario utilizar nenhum argumento da classe, mas eh inerente da funcionalidade da classe\n",
    "\n",
    "    @staticmethod #nao exige nenhum argumento da classe funcionario\n",
    "    def verificaDiaUtil(dia):\n",
    "        #segunda-feira = 0\n",
    "        #domingo = 6\n",
    "        if dia.weekday() == 5 or dia.weekday() == 6 :\n",
    "            return False\n",
    "        # como o return interrompe instanteamente a funcao nao precisa ser criado um else, ja que o True vai ser executado somente se\n",
    "        # a funcao ainda nao tiver retornado\n",
    "        #nao tem a necessidade de colocar o else, pois o o return ja interrompe a execucao\n",
    "        return True\n",
    "        "
   ]
  },
  {
   "cell_type": "code",
   "execution_count": 43,
   "metadata": {},
   "outputs": [
    {
     "data": {
      "text/plain": [
       "{'nome': 'Felipe', 'salario': 7000}"
      ]
     },
     "execution_count": 43,
     "metadata": {},
     "output_type": "execute_result"
    }
   ],
   "source": [
    "felipe = Funcionario('Felipe',7000)\n",
    "felipe.dados()"
   ]
  },
  {
   "cell_type": "code",
   "execution_count": 44,
   "metadata": {},
   "outputs": [],
   "source": [
    "class Admin(Funcionario): #admin herda todas as funcionalidades de um funcionario e podemos acrecentar coisas\n",
    "    def __init__(self, nome, salario):\n",
    "        super().__init__(nome,salario) # estamos chamando a funcao init da classe pai\n",
    "    \n",
    "    def atualizarDados(self,nome):\n",
    "        self.nome = nome\n",
    "        return self.dados()"
   ]
  },
  {
   "cell_type": "code",
   "execution_count": 45,
   "metadata": {},
   "outputs": [],
   "source": [
    "fernando = Admin('Fernando',14000)"
   ]
  },
  {
   "cell_type": "code",
   "execution_count": 46,
   "metadata": {},
   "outputs": [
    {
     "data": {
      "text/plain": [
       "{'nome': 'Fernando', 'salario': 14000}"
      ]
     },
     "execution_count": 46,
     "metadata": {},
     "output_type": "execute_result"
    }
   ],
   "source": [
    "fernando.dados()"
   ]
  },
  {
   "cell_type": "code",
   "execution_count": 47,
   "metadata": {},
   "outputs": [
    {
     "data": {
      "text/plain": [
       "{'nome': 'Ana Paula', 'salario': 14000}"
      ]
     },
     "execution_count": 47,
     "metadata": {},
     "output_type": "execute_result"
    }
   ],
   "source": [
    "fernando.atualizarDados('Ana Paula')#podemos alterar nome de fernando\n",
    "fernando.dados()"
   ]
  },
  {
   "cell_type": "code",
   "execution_count": 48,
   "metadata": {},
   "outputs": [
    {
     "ename": "AttributeError",
     "evalue": "'Funcionario' object has no attribute 'atualizarDados'",
     "output_type": "error",
     "traceback": [
      "\u001b[1;31m---------------------------------------------------------------------------\u001b[0m",
      "\u001b[1;31mAttributeError\u001b[0m                            Traceback (most recent call last)",
      "\u001b[1;32m<ipython-input-48-3c3ba30f2347>\u001b[0m in \u001b[0;36m<module>\u001b[1;34m\u001b[0m\n\u001b[0;32m      1\u001b[0m \u001b[1;31m#porem o funcionario nao tem acesso a funcao que a classe filha construiu\u001b[0m\u001b[1;33m\u001b[0m\u001b[1;33m\u001b[0m\u001b[1;33m\u001b[0m\u001b[0m\n\u001b[1;32m----> 2\u001b[1;33m \u001b[0mfelipe\u001b[0m\u001b[1;33m.\u001b[0m\u001b[0matualizarDados\u001b[0m\u001b[1;33m(\u001b[0m\u001b[1;33m)\u001b[0m\u001b[1;33m\u001b[0m\u001b[1;33m\u001b[0m\u001b[0m\n\u001b[0m",
      "\u001b[1;31mAttributeError\u001b[0m: 'Funcionario' object has no attribute 'atualizarDados'"
     ]
    }
   ],
   "source": [
    "#porem o funcionario nao tem acesso a funcao que a classe filha construiu\n",
    "felipe.atualizarDados()"
   ]
  },
  {
   "cell_type": "code",
   "execution_count": 49,
   "metadata": {},
   "outputs": [
    {
     "data": {
      "text/plain": [
       "7280.0"
      ]
     },
     "execution_count": 49,
     "metadata": {},
     "output_type": "execute_result"
    }
   ],
   "source": [
    "felipe.aplicarAumento()\n",
    "felipe.salario"
   ]
  },
  {
   "cell_type": "code",
   "execution_count": 50,
   "metadata": {},
   "outputs": [],
   "source": [
    "#para aplicar o aumento na classe e nao no objeto temos que utilizar a propria classe\n",
    "Funcionario.aplicarNovoAumento(1.10)"
   ]
  },
  {
   "cell_type": "code",
   "execution_count": 51,
   "metadata": {},
   "outputs": [
    {
     "data": {
      "text/plain": [
       "1.1"
      ]
     },
     "execution_count": 51,
     "metadata": {},
     "output_type": "execute_result"
    }
   ],
   "source": [
    "felipe.aumentoAnual"
   ]
  },
  {
   "cell_type": "code",
   "execution_count": 52,
   "metadata": {},
   "outputs": [
    {
     "data": {
      "text/plain": [
       "1.1"
      ]
     },
     "execution_count": 52,
     "metadata": {},
     "output_type": "execute_result"
    }
   ],
   "source": [
    "fernando.aumentoAnual"
   ]
  },
  {
   "cell_type": "code",
   "execution_count": 53,
   "metadata": {},
   "outputs": [],
   "source": [
    "#todos os objetos que eram da classe e da classe filha foram alterados"
   ]
  },
  {
   "cell_type": "code",
   "execution_count": 55,
   "metadata": {},
   "outputs": [],
   "source": [
    "import datetime"
   ]
  },
  {
   "cell_type": "code",
   "execution_count": 56,
   "metadata": {},
   "outputs": [],
   "source": [
    "data = datetime.date(2020,1,10) # Sexta feira, 10 de janeiro"
   ]
  },
  {
   "cell_type": "code",
   "execution_count": 57,
   "metadata": {},
   "outputs": [
    {
     "data": {
      "text/plain": [
       "True"
      ]
     },
     "execution_count": 57,
     "metadata": {},
     "output_type": "execute_result"
    }
   ],
   "source": [
    "Funcionario.verificaDiaUtil(data)"
   ]
  },
  {
   "cell_type": "code",
   "execution_count": 58,
   "metadata": {},
   "outputs": [
    {
     "data": {
      "text/plain": [
       "False"
      ]
     },
     "execution_count": 58,
     "metadata": {},
     "output_type": "execute_result"
    }
   ],
   "source": [
    "#Verificamos entao que sexta eh um dia util\n",
    "#mas o dia seguinte nao eh dia util\n",
    "Funcionario.verificaDiaUtil(datetime.date(2020,1,11))"
   ]
  },
  {
   "cell_type": "code",
   "execution_count": null,
   "metadata": {},
   "outputs": [],
   "source": []
  }
 ],
 "metadata": {
  "kernelspec": {
   "display_name": "Python 3",
   "language": "python",
   "name": "python3"
  },
  "language_info": {
   "codemirror_mode": {
    "name": "ipython",
    "version": 3
   },
   "file_extension": ".py",
   "mimetype": "text/x-python",
   "name": "python",
   "nbconvert_exporter": "python",
   "pygments_lexer": "ipython3",
   "version": "3.7.2"
  }
 },
 "nbformat": 4,
 "nbformat_minor": 4
}
