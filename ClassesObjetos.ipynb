{
 "cells": [
  {
   "cell_type": "markdown",
   "metadata": {},
   "source": [
    "# Objetos"
   ]
  },
  {
   "cell_type": "code",
   "execution_count": 1,
   "metadata": {},
   "outputs": [],
   "source": [
    "#**Por mais que um objeto seja identico ao outro, eles sao diferentes pois sao instancias diferentes!\n",
    "\n",
    "#Uma classe eh um modelo ou uma representacao de um objeto\n",
    "#Um objeto eh uma instancia de uma classe"
   ]
  },
  {
   "cell_type": "code",
   "execution_count": 10,
   "metadata": {},
   "outputs": [],
   "source": [
    "class Jogador:\n",
    "    def __init__(self): # construtor da classe, ele roda quando vc instancia o objeto, self eh ele mesmo\n",
    "        self.nome = 'Henrique'\n",
    "        self.pontos = (10,12,13,14,15)\n",
    "    #soma de todos os pontos\n",
    "    def total(self):\n",
    "        return sum(self.pontos)\n",
    "    "
   ]
  },
  {
   "cell_type": "code",
   "execution_count": 11,
   "metadata": {},
   "outputs": [],
   "source": [
    "jogador1 = Jogador()#teoricamente esses dois objetos sao iguais\n",
    "jogador2 = Jogador()"
   ]
  },
  {
   "cell_type": "code",
   "execution_count": 12,
   "metadata": {},
   "outputs": [
    {
     "name": "stdout",
     "output_type": "stream",
     "text": [
      "Henrique Henrique\n"
     ]
    }
   ],
   "source": [
    "print(jogador1.nome,jogador2.nome)#acessando os valores de nome"
   ]
  },
  {
   "cell_type": "code",
   "execution_count": 13,
   "metadata": {},
   "outputs": [
    {
     "name": "stdout",
     "output_type": "stream",
     "text": [
      "(10, 12, 13, 14, 15) (10, 12, 13, 14, 15)\n"
     ]
    }
   ],
   "source": [
    "print(jogador1.pontos,jogador2.pontos)#acessando os valores de pontos"
   ]
  },
  {
   "cell_type": "code",
   "execution_count": 23,
   "metadata": {},
   "outputs": [
    {
     "data": {
      "text/plain": [
       "False"
      ]
     },
     "execution_count": 23,
     "metadata": {},
     "output_type": "execute_result"
    }
   ],
   "source": [
    "# temos que os 2 sao identicos porem nao sao a mesma coisa, logo jogador 1 eh diferente do jogador 2\n",
    "# isso eh dado pois apesar de todos os elementos serem identicos, eles sao instancias diferentes\n",
    "jogador1 == jogador2"
   ]
  },
  {
   "cell_type": "code",
   "execution_count": 25,
   "metadata": {},
   "outputs": [
    {
     "name": "stdout",
     "output_type": "stream",
     "text": [
      "<__main__.Jogador object at 0x064A4470> <__main__.Jogador object at 0x064A45F0>\n"
     ]
    }
   ],
   "source": [
    "#podemos verificar isso olhando a posicao de memoria onde os objetos foram instanciados\n",
    "print(jogador1,jogador2)"
   ]
  },
  {
   "cell_type": "code",
   "execution_count": 24,
   "metadata": {},
   "outputs": [
    {
     "data": {
      "text/plain": [
       "64"
      ]
     },
     "execution_count": 24,
     "metadata": {},
     "output_type": "execute_result"
    }
   ],
   "source": [
    "jogador1.total() # podemos chamar um metodo da classe"
   ]
  },
  {
   "cell_type": "code",
   "execution_count": 21,
   "metadata": {},
   "outputs": [],
   "source": [
    "#podemos criar uma classe que podemos passar argumentos para instanciar a classe\n",
    "class Gamer:\n",
    "    def __init__(self,nome,pontos):\n",
    "        self.nome = nome\n",
    "        self.pontos = pontos\n",
    "        "
   ]
  },
  {
   "cell_type": "code",
   "execution_count": 22,
   "metadata": {},
   "outputs": [
    {
     "data": {
      "text/plain": [
       "<__main__.Gamer at 0x154a130>"
      ]
     },
     "execution_count": 22,
     "metadata": {},
     "output_type": "execute_result"
    }
   ],
   "source": [
    "henrique = Gamer(\"Henrique\",(10,12,45,32,55))#passando os parametros de criacao do objeto\n",
    "henrique # endereco de memoria onde o objeto foi criado"
   ]
  },
  {
   "cell_type": "code",
   "execution_count": 26,
   "metadata": {},
   "outputs": [
    {
     "data": {
      "text/plain": [
       "'Henrique'"
      ]
     },
     "execution_count": 26,
     "metadata": {},
     "output_type": "execute_result"
    }
   ],
   "source": [
    "henrique.nome"
   ]
  },
  {
   "cell_type": "code",
   "execution_count": 28,
   "metadata": {},
   "outputs": [
    {
     "data": {
      "text/plain": [
       "(10, 12, 45, 32, 55)"
      ]
     },
     "execution_count": 28,
     "metadata": {},
     "output_type": "execute_result"
    }
   ],
   "source": [
    "henrique.pontos"
   ]
  },
  {
   "cell_type": "code",
   "execution_count": null,
   "metadata": {},
   "outputs": [],
   "source": []
  }
 ],
 "metadata": {
  "kernelspec": {
   "display_name": "Python 3",
   "language": "python",
   "name": "python3"
  },
  "language_info": {
   "codemirror_mode": {
    "name": "ipython",
    "version": 3
   },
   "file_extension": ".py",
   "mimetype": "text/x-python",
   "name": "python",
   "nbconvert_exporter": "python",
   "pygments_lexer": "ipython3",
   "version": "3.7.2"
  }
 },
 "nbformat": 4,
 "nbformat_minor": 4
}
