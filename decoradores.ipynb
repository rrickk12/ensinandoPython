{
 "cells": [
  {
   "cell_type": "markdown",
   "metadata": {},
   "source": [
    "# Decoradores"
   ]
  },
  {
   "cell_type": "code",
   "execution_count": 4,
   "metadata": {},
   "outputs": [],
   "source": [
    "import functools \n",
    "#podem ser bem complexos, pode transformar uma funcao "
   ]
  },
  {
   "cell_type": "code",
   "execution_count": 8,
   "metadata": {},
   "outputs": [],
   "source": [
    "def meuDecorador(funcao):\n",
    "    @functools.wraps(funcao)#embrulha a funcao\n",
    "    def funcaoQueExecuta():#uma funcao dentro dessa funcao\n",
    "        print(\"****Embrulahdno a funcao no decorador****\")\n",
    "        print(\"----podemos executar varias operacoes aqui dentro antes de executar a funcao-----\")\n",
    "        funcao()#roda a funcao\n",
    "        print(\"****Fechando o embrulho****\")\n",
    "    return funcaoQueExecuta\n"
   ]
  },
  {
   "cell_type": "code",
   "execution_count": 9,
   "metadata": {},
   "outputs": [],
   "source": [
    "@meuDecorador\n",
    "def minhaFuncao(): # minha funcao recebe o meu decorador \n",
    "    print(\"Eu sou a funcao que esta sendo executada\")"
   ]
  },
  {
   "cell_type": "code",
   "execution_count": 10,
   "metadata": {},
   "outputs": [
    {
     "name": "stdout",
     "output_type": "stream",
     "text": [
      "****Embrulahdno a funcao no decorador****\n",
      "----podemos executar varias operacoes aqui dentro antes de executar a funcao-----\n",
      "Eu sou a funcao que esta sendo executada\n",
      "****Fechando o embrulho****\n"
     ]
    }
   ],
   "source": [
    "#agora vamos executar minha funcao \n",
    "minhaFuncao()"
   ]
  },
  {
   "cell_type": "code",
   "execution_count": null,
   "metadata": {},
   "outputs": [],
   "source": [
    "#verificamos que o decorador criado executou primeiro e fez algumas operacoes e executou a funcao\n",
    "\n",
    "#logo o decorador altera a funcao que esta logo abaixo!"
   ]
  }
 ],
 "metadata": {
  "kernelspec": {
   "display_name": "Python 3",
   "language": "python",
   "name": "python3"
  },
  "language_info": {
   "codemirror_mode": {
    "name": "ipython",
    "version": 3
   },
   "file_extension": ".py",
   "mimetype": "text/x-python",
   "name": "python",
   "nbconvert_exporter": "python",
   "pygments_lexer": "ipython3",
   "version": "3.7.2"
  }
 },
 "nbformat": 4,
 "nbformat_minor": 4
}
